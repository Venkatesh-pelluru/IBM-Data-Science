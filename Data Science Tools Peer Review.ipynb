{
 "cells": [
  {
   "cell_type": "markdown",
   "id": "22b55026-4662-40cb-bb04-f896db61ae50",
   "metadata": {},
   "source": [
    "# \"MY Jupyter Notebook on IBM Watson Studio\""
   ]
  },
  {
   "cell_type": "markdown",
   "id": "e4663ca5-5b18-465d-82be-a3ae80c2dd40",
   "metadata": {},
   "source": [
    "**Venkatesh Pelluru**\n",
    "Desired Job: Data Scientist"
   ]
  },
  {
   "cell_type": "markdown",
   "id": "62b494d2-a076-4f3d-8e62-2149b4a1a9c8",
   "metadata": {},
   "source": [
    "*I am looking for a career transition into IT domain, and being a faculty of Quantitative aptitude for competitive exams and my curiosity to play with numbers, made me to choose Data scientist role. I love to learn programming too. As Data science being an integrated discipline, I thought of becoming a Data scientist\""
   ]
  },
  {
   "cell_type": "markdown",
   "id": "21f3f0d7-1fb9-401b-ad5c-62b89b0dd203",
   "metadata": {},
   "source": [
    "### The code below, is written with an objective of calculating remainder on dividing NUMBER 1 by NUMBER 2"
   ]
  },
  {
   "cell_type": "code",
   "execution_count": 1,
   "id": "b68e05cc-2786-499d-b8b5-ff2777d2f0d7",
   "metadata": {},
   "outputs": [
    {
     "data": {
      "text/plain": [
       "6"
      ]
     },
     "execution_count": 1,
     "metadata": {},
     "output_type": "execute_result"
    }
   ],
   "source": [
    "5478 % 16"
   ]
  },
  {
   "cell_type": "markdown",
   "id": "b1b9575d-cd4b-4dd0-aec8-f8cf6c98a2d8",
   "metadata": {},
   "source": [
    "1. Car\n",
    "2. Pen\n",
    "3. Bullet\n",
    "4. Bike"
   ]
  },
  {
   "cell_type": "markdown",
   "id": "552df393-5a3c-4560-901d-4c067678ddad",
   "metadata": {},
   "source": [
    "- Parrot\n",
    "- Peacock\n",
    "- Horn bill"
   ]
  },
  {
   "cell_type": "markdown",
   "id": "5d4d910c-5c56-4ed3-8833-c24e763834ff",
   "metadata": {},
   "source": [
    "Platinum is never Gold\n",
    "***\n",
    "Silver is never Gold"
   ]
  },
  {
   "cell_type": "markdown",
   "id": "3fc948f4-d20d-457e-af29-52ae70489839",
   "metadata": {},
   "source": [
    "[YouTube](https://www.youtube.com/watch?v=CMrv_D78oxY)"
   ]
  },
  {
   "cell_type": "markdown",
   "id": "45335777-b856-44cf-9317-9447e813e7be",
   "metadata": {},
   "source": [
    "Jupyter Notebook is an exceptional tool for Data Scientists. ~~Isn't it?"
   ]
  }
 ],
 "metadata": {
  "kernelspec": {
   "display_name": "Python",
   "language": "python",
   "name": "conda-env-python-py"
  },
  "language_info": {
   "codemirror_mode": {
    "name": "ipython",
    "version": 3
   },
   "file_extension": ".py",
   "mimetype": "text/x-python",
   "name": "python",
   "nbconvert_exporter": "python",
   "pygments_lexer": "ipython3",
   "version": "3.7.12"
  }
 },
 "nbformat": 4,
 "nbformat_minor": 5
}
