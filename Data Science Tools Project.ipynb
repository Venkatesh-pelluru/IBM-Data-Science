{
 "cells": [
  {
   "cell_type": "code",
   "execution_count": 4,
   "id": "0630cf37-62f0-4538-a4a5-86dc3caa21bf",
   "metadata": {},
   "outputs": [
    {
     "data": {
      "text/plain": [
       "13"
      ]
     },
     "execution_count": 4,
     "metadata": {},
     "output_type": "execute_result"
    }
   ],
   "source": [
    "25789 % 36"
   ]
  },
  {
   "cell_type": "code",
   "execution_count": 5,
   "id": "84542ca6-fa47-446e-b541-efccfee89f74",
   "metadata": {},
   "outputs": [
    {
     "data": {
      "text/plain": [
       "69.71428571428571"
      ]
     },
     "execution_count": 5,
     "metadata": {},
     "output_type": "execute_result"
    }
   ],
   "source": [
    "976 / 14"
   ]
  },
  {
   "cell_type": "code",
   "execution_count": 6,
   "id": "75b58d36-44a0-448b-bcf6-7bf8d461499d",
   "metadata": {},
   "outputs": [
    {
     "data": {
      "text/plain": [
       "4913"
      ]
     },
     "execution_count": 6,
     "metadata": {},
     "output_type": "execute_result"
    }
   ],
   "source": [
    "17 ** 3"
   ]
  }
 ],
 "metadata": {
  "kernelspec": {
   "display_name": "Python",
   "language": "python",
   "name": "conda-env-python-py"
  },
  "language_info": {
   "codemirror_mode": {
    "name": "ipython",
    "version": 3
   },
   "file_extension": ".py",
   "mimetype": "text/x-python",
   "name": "python",
   "nbconvert_exporter": "python",
   "pygments_lexer": "ipython3",
   "version": "3.7.12"
  }
 },
 "nbformat": 4,
 "nbformat_minor": 5
}
